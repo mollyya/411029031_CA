{
  "nbformat": 4,
  "nbformat_minor": 0,
  "metadata": {
    "colab": {
      "provenance": []
    },
    "kernelspec": {
      "name": "python3",
      "display_name": "Python 3"
    },
    "language_info": {
      "name": "python"
    }
  },
  "cells": [
    {
      "cell_type": "code",
      "execution_count": 2,
      "metadata": {
        "id": "uV52kN8Zkn-m",
        "colab": {
          "base_uri": "https://localhost:8080/"
        },
        "outputId": "dcaee9af-6a11-47f1-985f-1ac5b6306a03"
      },
      "outputs": [
        {
          "output_type": "stream",
          "name": "stdout",
          "text": [
            "變數x的值是:5\n",
            "變數x的記憶體地址是:134093240467824\n"
          ]
        }
      ],
      "source": [
        "x=5\n",
        "print(f\"變數x的值是:{x}\")\n",
        "print(f\"變數x的記憶體地址是:{id(x)}\")"
      ]
    }
  ]
}